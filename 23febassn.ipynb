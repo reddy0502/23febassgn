{
 "cells": [
  {
   "cell_type": "markdown",
   "id": "f8d1ec53-a9f5-4f99-95fa-0401000a7287",
   "metadata": {},
   "source": [
    "1ans:"
   ]
  },
  {
   "cell_type": "code",
   "execution_count": 1,
   "id": "0091ecdc-b381-4196-9fe7-3eba259113a5",
   "metadata": {},
   "outputs": [],
   "source": [
    "import pandas as pd"
   ]
  },
  {
   "cell_type": "code",
   "execution_count": 2,
   "id": "eecc6292-f16b-440a-afbd-04a3370fd5fa",
   "metadata": {},
   "outputs": [],
   "source": [
    "data=pd.Series([4,8,15,16,23,42])"
   ]
  },
  {
   "cell_type": "code",
   "execution_count": 3,
   "id": "13006edd-12fb-41c9-9d82-42a402127be3",
   "metadata": {},
   "outputs": [
    {
     "data": {
      "text/plain": [
       "0     4\n",
       "1     8\n",
       "2    15\n",
       "3    16\n",
       "4    23\n",
       "5    42\n",
       "dtype: int64"
      ]
     },
     "execution_count": 3,
     "metadata": {},
     "output_type": "execute_result"
    }
   ],
   "source": [
    "data"
   ]
  },
  {
   "cell_type": "markdown",
   "id": "5bc0cebe-f81d-481e-831d-0423456c6947",
   "metadata": {},
   "source": [
    "2ans:"
   ]
  },
  {
   "cell_type": "code",
   "execution_count": 4,
   "id": "025aeeb2-456e-4fb1-941f-8df7d2adce31",
   "metadata": {},
   "outputs": [],
   "source": [
    "l=[1,2,3,4,5,6,7,8,9,10]\n"
   ]
  },
  {
   "cell_type": "code",
   "execution_count": 5,
   "id": "166d56cd-89eb-423c-9f45-418ce760e941",
   "metadata": {},
   "outputs": [
    {
     "data": {
      "text/plain": [
       "0     1\n",
       "1     2\n",
       "2     3\n",
       "3     4\n",
       "4     5\n",
       "5     6\n",
       "6     7\n",
       "7     8\n",
       "8     9\n",
       "9    10\n",
       "dtype: int64"
      ]
     },
     "execution_count": 5,
     "metadata": {},
     "output_type": "execute_result"
    }
   ],
   "source": [
    "pd.Series(l)"
   ]
  },
  {
   "cell_type": "markdown",
   "id": "30d50844-fe9d-492b-ab9f-dd40dbf8cd09",
   "metadata": {},
   "source": [
    "3ans:"
   ]
  },
  {
   "cell_type": "code",
   "execution_count": 6,
   "id": "e42900e2-ff38-4111-98b3-a4117f76e4c8",
   "metadata": {},
   "outputs": [],
   "source": [
    "data={'Name':['Alice','Bob','Claire'],'Age':[25,30,27],'Gender':['Female','Male','Female']}\n"
   ]
  },
  {
   "cell_type": "code",
   "execution_count": 7,
   "id": "2179f357-ec0e-41cc-a548-4842565a7ce9",
   "metadata": {},
   "outputs": [
    {
     "data": {
      "text/html": [
       "<div>\n",
       "<style scoped>\n",
       "    .dataframe tbody tr th:only-of-type {\n",
       "        vertical-align: middle;\n",
       "    }\n",
       "\n",
       "    .dataframe tbody tr th {\n",
       "        vertical-align: top;\n",
       "    }\n",
       "\n",
       "    .dataframe thead th {\n",
       "        text-align: right;\n",
       "    }\n",
       "</style>\n",
       "<table border=\"1\" class=\"dataframe\">\n",
       "  <thead>\n",
       "    <tr style=\"text-align: right;\">\n",
       "      <th></th>\n",
       "      <th>Name</th>\n",
       "      <th>Age</th>\n",
       "      <th>Gender</th>\n",
       "    </tr>\n",
       "  </thead>\n",
       "  <tbody>\n",
       "    <tr>\n",
       "      <th>0</th>\n",
       "      <td>Alice</td>\n",
       "      <td>25</td>\n",
       "      <td>Female</td>\n",
       "    </tr>\n",
       "    <tr>\n",
       "      <th>1</th>\n",
       "      <td>Bob</td>\n",
       "      <td>30</td>\n",
       "      <td>Male</td>\n",
       "    </tr>\n",
       "    <tr>\n",
       "      <th>2</th>\n",
       "      <td>Claire</td>\n",
       "      <td>27</td>\n",
       "      <td>Female</td>\n",
       "    </tr>\n",
       "  </tbody>\n",
       "</table>\n",
       "</div>"
      ],
      "text/plain": [
       "     Name  Age  Gender\n",
       "0   Alice   25  Female\n",
       "1     Bob   30    Male\n",
       "2  Claire   27  Female"
      ]
     },
     "execution_count": 7,
     "metadata": {},
     "output_type": "execute_result"
    }
   ],
   "source": [
    "pd.DataFrame(data)"
   ]
  },
  {
   "cell_type": "markdown",
   "id": "fb0f546c-182b-47da-a93d-33117804be67",
   "metadata": {},
   "source": [
    "4ans:"
   ]
  },
  {
   "cell_type": "markdown",
   "id": "164a24a0-c5ff-449e-ac14-37414a870ffd",
   "metadata": {},
   "source": [
    "In Pandas, a DataFrame is a two-dimensional labeled data structure, where data is organized into rows and columns. It is essentially a collection of Pandas Series objects with a shared index. A Pandas Series is a one-dimensional labeled array that can hold data of any type."
   ]
  },
  {
   "cell_type": "code",
   "execution_count": 10,
   "id": "52336583-66df-4ffd-9e63-d1ff523bbed8",
   "metadata": {},
   "outputs": [],
   "source": [
    "import pandas as pd\n",
    "\n",
    "\n",
    "data = {'name': ['John', 'Mary', 'Alex'],\n",
    "        'age': [25, 30, 35],\n",
    "        'gender': ['male', 'female', 'male']}\n"
   ]
  },
  {
   "cell_type": "code",
   "execution_count": 11,
   "id": "73898ff0-1198-4a85-b8f6-da15df351e70",
   "metadata": {},
   "outputs": [],
   "source": [
    "df = pd.DataFrame(data)"
   ]
  },
  {
   "cell_type": "code",
   "execution_count": 12,
   "id": "68f580e0-ec8e-41fc-b233-ec369c3bd102",
   "metadata": {},
   "outputs": [
    {
     "data": {
      "text/html": [
       "<div>\n",
       "<style scoped>\n",
       "    .dataframe tbody tr th:only-of-type {\n",
       "        vertical-align: middle;\n",
       "    }\n",
       "\n",
       "    .dataframe tbody tr th {\n",
       "        vertical-align: top;\n",
       "    }\n",
       "\n",
       "    .dataframe thead th {\n",
       "        text-align: right;\n",
       "    }\n",
       "</style>\n",
       "<table border=\"1\" class=\"dataframe\">\n",
       "  <thead>\n",
       "    <tr style=\"text-align: right;\">\n",
       "      <th></th>\n",
       "      <th>name</th>\n",
       "      <th>age</th>\n",
       "      <th>gender</th>\n",
       "    </tr>\n",
       "  </thead>\n",
       "  <tbody>\n",
       "    <tr>\n",
       "      <th>0</th>\n",
       "      <td>John</td>\n",
       "      <td>25</td>\n",
       "      <td>male</td>\n",
       "    </tr>\n",
       "    <tr>\n",
       "      <th>1</th>\n",
       "      <td>Mary</td>\n",
       "      <td>30</td>\n",
       "      <td>female</td>\n",
       "    </tr>\n",
       "    <tr>\n",
       "      <th>2</th>\n",
       "      <td>Alex</td>\n",
       "      <td>35</td>\n",
       "      <td>male</td>\n",
       "    </tr>\n",
       "  </tbody>\n",
       "</table>\n",
       "</div>"
      ],
      "text/plain": [
       "   name  age  gender\n",
       "0  John   25    male\n",
       "1  Mary   30  female\n",
       "2  Alex   35    male"
      ]
     },
     "execution_count": 12,
     "metadata": {},
     "output_type": "execute_result"
    }
   ],
   "source": [
    "df"
   ]
  },
  {
   "cell_type": "markdown",
   "id": "51289d23-d4df-4cc9-b7f1-bff559107846",
   "metadata": {},
   "source": [
    "5ans:"
   ]
  },
  {
   "cell_type": "markdown",
   "id": "de61afbe-428a-4fcb-9e66-288379a71ca7",
   "metadata": {},
   "source": [
    "read_csv()\n",
    "\n",
    "head()\n",
    "\n",
    "describe()\n",
    "\n",
    "memory_usage()\n",
    "\n",
    "astype()\n",
    "\n",
    "loc[:]\n",
    "\n",
    "to_datetime()\n",
    "\n",
    "value_counts()\n",
    "\n",
    "drop_duplicates()\n",
    "\n",
    "groupby()"
   ]
  },
  {
   "cell_type": "markdown",
   "id": "67dc7a2c-c5a9-49e3-aff7-3acf551cdf08",
   "metadata": {},
   "source": [
    "6ans:"
   ]
  },
  {
   "cell_type": "markdown",
   "id": "ce351181-b700-4757-9a56-2d5f3efb15f4",
   "metadata": {},
   "source": [
    "In pandas library, both Series and DataFrame are mutable in nature, which means that their contents can be changed after they have been created. However, Panel is considered to be deprecated and is no longer recommended for use in favor of multi-dimensional arrays, so it is not relevant to consider its mutability."
   ]
  },
  {
   "cell_type": "markdown",
   "id": "f802efd2-a5fe-4bce-bdb4-45c22fd973f6",
   "metadata": {},
   "source": [
    "7ans:"
   ]
  },
  {
   "cell_type": "code",
   "execution_count": null,
   "id": "31a11461-04bd-4eee-85cb-5b6ac4af249d",
   "metadata": {},
   "outputs": [],
   "source": []
  }
 ],
 "metadata": {
  "kernelspec": {
   "display_name": "Python 3 (ipykernel)",
   "language": "python",
   "name": "python3"
  },
  "language_info": {
   "codemirror_mode": {
    "name": "ipython",
    "version": 3
   },
   "file_extension": ".py",
   "mimetype": "text/x-python",
   "name": "python",
   "nbconvert_exporter": "python",
   "pygments_lexer": "ipython3",
   "version": "3.10.8"
  }
 },
 "nbformat": 4,
 "nbformat_minor": 5
}
